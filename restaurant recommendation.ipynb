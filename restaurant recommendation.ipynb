{
 "cells": [
  {
   "cell_type": "code",
   "execution_count": 1,
   "id": "5263b0d9-45b2-4254-aac3-2e7668a5cab1",
   "metadata": {},
   "outputs": [],
   "source": [
    "import pandas as pd\n",
    "from sklearn.feature_extraction.text import TfidfVectorizer\n",
    "from sklearn.metrics.pairwise import cosine_similarity\n"
   ]
  },
  {
   "cell_type": "code",
   "execution_count": 2,
   "id": "e9f17eeb-7c8d-4813-8fb2-b48d6a54e017",
   "metadata": {},
   "outputs": [],
   "source": [
    "df = pd.read_csv(r\"D:\\INTERN PROGRAM\\Dataset .csv\")\n"
   ]
  },
  {
   "cell_type": "code",
   "execution_count": 3,
   "id": "2278740c-b265-4b59-a478-075306691133",
   "metadata": {},
   "outputs": [],
   "source": [
    "df.fillna('', inplace=True)\n"
   ]
  },
  {
   "cell_type": "code",
   "execution_count": 4,
   "id": "241e8784-041f-447f-970f-9373a97fcad8",
   "metadata": {},
   "outputs": [],
   "source": [
    "df.columns = df.columns.str.strip().str.lower().str.replace(' ', '_')\n"
   ]
  },
  {
   "cell_type": "code",
   "execution_count": 5,
   "id": "f8e60bd6-473e-472f-81ea-306f8b0345d1",
   "metadata": {},
   "outputs": [],
   "source": [
    "df['combined_features'] = df['cuisines'] + ' ' + df['price_range'].astype(str) + ' ' + df['locality']\n"
   ]
  },
  {
   "cell_type": "code",
   "execution_count": 6,
   "id": "c92de7a1-fae4-4596-8e8c-664af9717519",
   "metadata": {},
   "outputs": [],
   "source": [
    "vectorizer = TfidfVectorizer(stop_words='english')\n",
    "feature_matrix = vectorizer.fit_transform(df['combined_features'])\n"
   ]
  },
  {
   "cell_type": "code",
   "execution_count": 7,
   "id": "6f9256d3-d69c-4b60-a262-8d84ad342349",
   "metadata": {},
   "outputs": [],
   "source": [
    "def recommend_restaurants(cuisine, price_range, location, top_n=5):\n",
    "    user_pref = cuisine + ' ' + str(price_range) + ' ' + location\n",
    "    user_vec = vectorizer.transform([user_pref])\n",
    "    similarity = cosine_similarity(user_vec, feature_matrix)\n",
    "    scores = list(enumerate(similarity[0]))\n",
    "    sorted_scores = sorted(scores, key=lambda x: x[1], reverse=True)\n",
    "    recommended_indices = [i[0] for i in sorted_scores[:top_n]]\n",
    "    return df.iloc[recommended_indices][['restaurant_name', 'cuisines', 'price_range', 'locality', 'aggregate_rating']]\n"
   ]
  },
  {
   "cell_type": "code",
   "execution_count": 8,
   "id": "96016b40-5b11-4165-983b-a0aa88ca6966",
   "metadata": {},
   "outputs": [
    {
     "data": {
      "text/html": [
       "<div>\n",
       "<style scoped>\n",
       "    .dataframe tbody tr th:only-of-type {\n",
       "        vertical-align: middle;\n",
       "    }\n",
       "\n",
       "    .dataframe tbody tr th {\n",
       "        vertical-align: top;\n",
       "    }\n",
       "\n",
       "    .dataframe thead th {\n",
       "        text-align: right;\n",
       "    }\n",
       "</style>\n",
       "<table border=\"1\" class=\"dataframe\">\n",
       "  <thead>\n",
       "    <tr style=\"text-align: right;\">\n",
       "      <th></th>\n",
       "      <th>restaurant_name</th>\n",
       "      <th>cuisines</th>\n",
       "      <th>price_range</th>\n",
       "      <th>locality</th>\n",
       "      <th>aggregate_rating</th>\n",
       "    </tr>\n",
       "  </thead>\n",
       "  <tbody>\n",
       "    <tr>\n",
       "      <th>9155</th>\n",
       "      <td>Teddy Boy</td>\n",
       "      <td>North Indian, Continental, Finger Food</td>\n",
       "      <td>3</td>\n",
       "      <td>Baner</td>\n",
       "      <td>3.6</td>\n",
       "    </tr>\n",
       "    <tr>\n",
       "      <th>9156</th>\n",
       "      <td>Effingut Brewerkz</td>\n",
       "      <td>Continental, North Indian, Mughlai, Burmese</td>\n",
       "      <td>4</td>\n",
       "      <td>Baner</td>\n",
       "      <td>4.3</td>\n",
       "    </tr>\n",
       "    <tr>\n",
       "      <th>802</th>\n",
       "      <td>Virgin Courtyard</td>\n",
       "      <td>Italian</td>\n",
       "      <td>4</td>\n",
       "      <td>Sector 7</td>\n",
       "      <td>4.4</td>\n",
       "    </tr>\n",
       "    <tr>\n",
       "      <th>943</th>\n",
       "      <td>Cafe Parmesan</td>\n",
       "      <td>Italian</td>\n",
       "      <td>3</td>\n",
       "      <td>Sector 15</td>\n",
       "      <td>4.5</td>\n",
       "    </tr>\n",
       "    <tr>\n",
       "      <th>6270</th>\n",
       "      <td>Rooftop</td>\n",
       "      <td>North Indian, Chinese, Italian</td>\n",
       "      <td>2</td>\n",
       "      <td>Pitampura</td>\n",
       "      <td>3.3</td>\n",
       "    </tr>\n",
       "  </tbody>\n",
       "</table>\n",
       "</div>"
      ],
      "text/plain": [
       "        restaurant_name                                     cuisines  \\\n",
       "9155          Teddy Boy       North Indian, Continental, Finger Food   \n",
       "9156  Effingut Brewerkz  Continental, North Indian, Mughlai, Burmese   \n",
       "802    Virgin Courtyard                                      Italian   \n",
       "943       Cafe Parmesan                                      Italian   \n",
       "6270            Rooftop               North Indian, Chinese, Italian   \n",
       "\n",
       "      price_range   locality  aggregate_rating  \n",
       "9155            3      Baner               3.6  \n",
       "9156            4      Baner               4.3  \n",
       "802             4   Sector 7               4.4  \n",
       "943             3  Sector 15               4.5  \n",
       "6270            2  Pitampura               3.3  "
      ]
     },
     "execution_count": 8,
     "metadata": {},
     "output_type": "execute_result"
    }
   ],
   "source": [
    "user_cuisine = \"Italian\"\n",
    "user_price_range = \"2\"\n",
    "user_location = \"Baner\"\n",
    "\n",
    "recommendations = recommend_restaurants(user_cuisine, user_price_range, user_location, top_n=5)\n",
    "recommendations\n"
   ]
  },
  {
   "cell_type": "code",
   "execution_count": null,
   "id": "92d1573e-511e-4a68-8f0a-3cc026514e56",
   "metadata": {},
   "outputs": [],
   "source": []
  }
 ],
 "metadata": {
  "kernelspec": {
   "display_name": "Python [conda env:base] *",
   "language": "python",
   "name": "conda-base-py"
  },
  "language_info": {
   "codemirror_mode": {
    "name": "ipython",
    "version": 3
   },
   "file_extension": ".py",
   "mimetype": "text/x-python",
   "name": "python",
   "nbconvert_exporter": "python",
   "pygments_lexer": "ipython3",
   "version": "3.13.5"
  }
 },
 "nbformat": 4,
 "nbformat_minor": 5
}
